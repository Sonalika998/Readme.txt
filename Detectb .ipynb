from PIL import Image
import cv2
import pytesseract                                                                               
import sys
import argparse
import json
import requests

#file path of .exe of tesseract(use for OCR)
#   C:\Program Files\Tesseract-OCR\tesseract.exe   
# Mention the installed location of Tesseract-OCR in your system
pytesseract.pytesseract.tesseract_cmd = "C:\\Users\\HP\\OneDrive\\c coding\\New folder\\OneDrive\\Desktop\\ocr pip\\tesseract.exe"

# Read image from which text needs to be extracted
img = cv2.imread('E:\Project photo\name.PNG')
img

# Convert the image to gray scale
gray_image= cv2.cvtColor(img, cv2.COLOR_BGR2GRAY)
gray
# Performing OTSU threshold
ret, thresh1 = cv2.threshold(gray, 0, 255, cv2.THRESH_OTSU | cv2.THRESH_BINARY_INV)

# Specify structure shape and kernel size.
# Kernel size increases or decreases the area
# of the rectangle to be detected.
# A smaller value like (10, 10) will detect
# each word instead of a sentence.
rect_kernel = cv2.getStructuringElement(cv2.MORPH_RECT, (15, 15))

# Appplying dilation on the threshold image
dilation = cv2.dilate(thresh1, rect_kernel, iterations=1)
# Finding contours
contours, hierarchy = cv2.findContours(dilation, cv2.RETR_EXTERNAL,
                                       cv2.CHAIN_APPROX_NONE)

# Creating a copy of image
im2 = img.copy()

# Looping through the identified contours
# Then rectangular part is cropped and passed on
# to pytesseract for extracting text from it
# Extracted text is then written into the text file
for cnt in contours:
    x, y, w, h = cv2.boundingRect(cnt)
    print(x,y,w,h)

# Drawing a rectangle on copied image
rect = cv2.rectangle(im2, (x, y), (x + w, y + h), (0, 255, 0), 2)

# Cropping the text block for giving input to OCR
cropped = im2[y:y + h, x:x + w]
image_path = "E:\Project photo\name.PNG"

# Opening the image & storing it in an image object 
img = Image.open(image_path) 
img
 # Apply OCR on the cropped image 
text = pytesseract.image_to_string('E:\Project photo\name.png')
print(text)
api_url='https://vision.googleapis.com/v1/images:annotate?key=YOUR API KEY'

api_key=""

headers ={
    'Authorization' : ''
}
response= requests.get(api_url)
print("hello")

if response.status_code==200:
    data= response.json
    print(data)
else:
    print(response.status_code)
